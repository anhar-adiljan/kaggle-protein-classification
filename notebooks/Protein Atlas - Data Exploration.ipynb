{
 "cells": [
  {
   "cell_type": "markdown",
   "metadata": {},
   "source": [
    "## Acknowledgement\n",
    "\n",
    "This notebook is adapted from the following kernels in the Human Protein Atlas Image Classification challenge.\n",
    "\n",
    "* Protein Atlas - Exploration and Baseline: \n",
    "https://www.kaggle.com/allunia/protein-atlas-exploration-and-baseline\n",
    "* Exploring the human protein atlas images - "
   ]
  },
  {
   "cell_type": "markdown",
   "metadata": {},
   "source": [
    "## Our goal\n",
    "* Predict various protein structures and in cellular images\n",
    "* There are 28 different target proteins.\n",
    "* Multiple proteins can be present in one image (multi-label classification)"
   ]
  }
 ],
 "metadata": {
  "kernelspec": {
   "display_name": "Python 2",
   "language": "python",
   "name": "python2"
  },
  "language_info": {
   "codemirror_mode": {
    "name": "ipython",
    "version": 2
   },
   "file_extension": ".py",
   "mimetype": "text/x-python",
   "name": "python",
   "nbconvert_exporter": "python",
   "pygments_lexer": "ipython2",
   "version": "2.7.15rc1"
  }
 },
 "nbformat": 4,
 "nbformat_minor": 2
}
